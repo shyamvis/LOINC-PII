{
 "cells": [
  {
   "cell_type": "markdown",
   "id": "a69e82f6-c29e-47d8-9745-4cacb5866f63",
   "metadata": {},
   "source": [
    "# Loading required libraries"
   ]
  },
  {
   "cell_type": "code",
   "execution_count": 1,
   "id": "8007da0e-9af2-44f4-9d36-5d017fed6f00",
   "metadata": {},
   "outputs": [],
   "source": [
    "import re\n",
    "import numpy as np\n",
    "import csv\n",
    "import pandas as pd"
   ]
  },
  {
   "cell_type": "markdown",
   "id": "e7d70d25-def9-429a-a81a-1ec2e0102dcb",
   "metadata": {},
   "source": [
    "# Loading the LOINC file"
   ]
  },
  {
   "cell_type": "code",
   "execution_count": 2,
   "id": "42ba0cde-1ac3-46cf-a269-75fe5a15be47",
   "metadata": {},
   "outputs": [],
   "source": [
    "# LOINC file/ at the time of writing the paper, the latest version was 2.78\n",
    "csv_file = 'Loinc78.csv'\n",
    "\n",
    "# Avoiding the mixed types error by setting the type of problematic ones\n",
    "dtype_specification = {\n",
    "    'VersionLastChanged': str,\n",
    "    'EXMPL_ANSWERS': str,\n",
    "    'SURVEY_QUEST_TEXT': str,\n",
    "    'SURVEY_QUEST_SRC': str,\n",
    "    'HL7_FIELD_SUBFIELD_ID': str,\n",
    "    'STATUS_REASON': str,\n",
    "    'STATUS_TEXT': str,\n",
    "    'AskAtOrderEntry': str,\n",
    "    'VersionFirstReleased': str,\n",
    "    'ValidHL7AttachmentRequest': str \n",
    "}\n",
    "# Loading the LOINC in a data frame\n",
    "df = pd.read_csv(csv_file, dtype=dtype_specification)"
   ]
  },
  {
   "cell_type": "markdown",
   "id": "b5dfa011-e6fd-4e38-9ddc-8fda07e9e588",
   "metadata": {},
   "source": [
    "# Filtering process"
   ]
  },
  {
   "cell_type": "code",
   "execution_count": 3,
   "id": "45d1ba4b-d488-4ee0-af2f-3d9d90886a66",
   "metadata": {},
   "outputs": [
    {
     "name": "stdout",
     "output_type": "stream",
     "text": [
      "Total number of LOINCs:  104054\n",
      "Number of LOINCs after applying the potential properties that may contain PII:  39997\n",
      "Number of LOINCs after applying filtering through the keywords:  4752\n",
      "Number of LOINCs after applying both keywords and properties:  4041\n"
     ]
    }
   ],
   "source": [
    "print('Total number of LOINCs: ', df.shape[0])\n",
    "\n",
    "# The keywords we use for filtering out the LOINCs that may be associated with PII\n",
    "fc = ['address', 'number', 'name', 'phone', 'fax', 'email', 'city', 'age', 'social security', 'longitude', \n",
    "      'latitude', 'identifier', 'date', 'zip', 'postal', 'license', 'certificate', 'url','county', 'town','telephone','nickname']\n",
    "\n",
    "# Converting long_common_name to lowercase for case-insensitive search\n",
    "df['long_common_name_lower'] = df['LONG_COMMON_NAME'].str.lower()\n",
    "\n",
    "# Initialize flag/keyword column\n",
    "df['Flag'] = None\n",
    "\n",
    "# Defining regex patterns for start and end matching\n",
    "start_patterns = [re.compile(r'\\b{}.*'.format(keyword)) for keyword in fc]\n",
    "end_patterns = [re.compile(r'.*\\b{}'.format(keyword)) for keyword in fc]\n",
    "\n",
    "# Iterating over each row and setting the flag\n",
    "for index, row in df.iterrows():\n",
    "    flags = []\n",
    "    sentence = row['long_common_name_lower']\n",
    "    for i, keyword in enumerate(fc):\n",
    "        if start_patterns[i].match(sentence) or end_patterns[i].match(sentence):\n",
    "            flags.append(keyword)\n",
    "    if flags:\n",
    "        df.at[index, 'Flag'] = ', '.join(flags)\n",
    "\n",
    "# Properties we suspected that may contain PII\n",
    "l = ['ClockTime', 'Date', 'URI', 'DtTmRange', 'ExtendedID', 'Addr', 'Angle', '-', 'Arb', 'Bib', 'Class', 'Cmplx', 'Desc', 'Find', 'Hx', \n",
    "    'ID', 'Imp', 'Instrct', 'Loc', 'DateRange', 'Pn', 'Prid', 'Tele', 'Time', 'TmStp','TmStpRange', 'TQ2', 'EmailAddr','Xad', 'Txt', 'Scope.modifier.selection item'\n",
    "    , 'Scope.modifier.time window', 'Scope.modifier.doc template']\n",
    "# Applying the property condition\n",
    "condition = df['PROPERTY'].isin(l)\n",
    "df_final = df[condition]\n",
    "\n",
    "print('Number of LOINCs after applying the potential properties that may contain PII: ', df_final.shape[0])\n",
    "print('Number of LOINCs after applying filtering through the keywords: ', df[df['Flag'].notna()].shape[0])\n",
    "\n",
    "# Droping the lowercase version of long_common_name if no longer needed\n",
    "out = df_final[['LOINC_NUM', 'PROPERTY', 'Flag', 'CLASS', 'SYSTEM']]\n",
    "fin = out[out['Flag'].notna()]\n",
    "\n",
    "print('Number of LOINCs after applying both keywords and properties: ', fin[fin['Flag'].notna()].shape[0])"
   ]
  },
  {
   "cell_type": "code",
   "execution_count": 21,
   "id": "0e7a374a-b6ec-48b1-8bc4-44863b1d99e5",
   "metadata": {},
   "outputs": [
    {
     "name": "stdout",
     "output_type": "stream",
     "text": [
      "26\n"
     ]
    }
   ],
   "source": [
    "value_counts = fin['PROPERTY'].value_counts()\n",
    "print(len(value_counts))"
   ]
  },
  {
   "cell_type": "code",
   "execution_count": null,
   "id": "c1fdde14-1fff-4e5a-9ac6-bf75f570dd53",
   "metadata": {},
   "outputs": [],
   "source": [
    "'''\n",
    "After filtering for 4041 LOINCs: For the first column in Table 2 of the paper:\n",
    "\n",
    "-- identifier                             1847+0 to identifier\n",
    "    \n",
    "\n",
    "-- date                                    737+0 to date\n",
    "\n",
    "-- age                                     472+10 to age\n",
    "    -- age, identifier                           1 to age\n",
    "    -- age, date                                 9 to age\n",
    "\n",
    "-- number                                  260+18 to number\n",
    "    -- number, identifier                       13 to number\n",
    "    -- number, age                               5 to number\n",
    "\n",
    "\n",
    "-- name                                    218+53 to name\n",
    "    -- name, identifier                         51- to name\n",
    "    -- name, age                                 1 to name\n",
    "    -- nickname                                  1 to name\n",
    "\n",
    "\n",
    "-- telephone                               116+54 to phone\n",
    "    -- phone                                    14 to phone\n",
    "    -- number, phone                            36- to phone\n",
    "    -- phone, date                               1 to phone\n",
    "    -- number, telephone                         3 to phone\n",
    "\n",
    "    \n",
    "-- address                                  81+12 to address\n",
    "    -- address, identifier                      10 to address\n",
    "    -- address, name                             2 to address\n",
    "\n",
    "\n",
    "\n",
    "-- certificate                              40+2 to certificate\n",
    "    -- date, certificate                         1 to certificate\n",
    "    -- number, certificate                       1 to certificate\n",
    "\n",
    "-- city                                     16+5 to city\n",
    "    -- city, town                                4 to city\n",
    "    -- address, city                             1 to city\n",
    "\n",
    "\n",
    "\n",
    "-- town                                     13+0 to town\n",
    "\n",
    "\n",
    "-- license                                  12+5to license\n",
    "    -- identifier, license                       1 to license\n",
    "    -- age, license                              1 to license\n",
    "    -- license, certificate                      1 to lisence\n",
    "    -- date, license                             2 to lisence\n",
    "    \n",
    "-- postal                                    9+0 to postal\n",
    "\n",
    "\n",
    "-- zip                                       9+0 to zip\n",
    "\n",
    "\n",
    "-- county                                    8+2 to county\n",
    "    -- date, county                              1 to county\n",
    "    -- identifier, county                        1 to county\n",
    "    \n",
    "-- longitude                                 6+1 to longitude\n",
    "    -- longitude, identifier                     1 to longitude\n",
    "\n",
    "    \n",
    "-- latitude                                  6+1 to latitude\n",
    "    -- latitude, identifier                      1 to latitude\n",
    "    \n",
    "\n",
    "-- email                                     2+13 to email\n",
    "    -- address, email                           12 - to email\n",
    "    -- address, number, phone, email             1 to email\n",
    "    \n",
    "-- social security                           2+6 to SS\n",
    "    -- number, social security, date             1 to social security\n",
    "    -- number, social security                   4 to social security\n",
    "    -- number, social security, identifier       1 to social security\n",
    "\n",
    "    \n",
    "-- url                                       1+1 to url\n",
    "    -- address, url                              1 to url\n",
    "\n",
    "    \n",
    "-- fax                                       0+3 to url\n",
    "    -- number, fax                               3 to fax\n",
    "    \n",
    "'''"
   ]
  },
  {
   "cell_type": "code",
   "execution_count": null,
   "id": "50ade62a-41f4-4351-9070-a77e493b39b1",
   "metadata": {},
   "outputs": [],
   "source": []
  }
 ],
 "metadata": {
  "kernelspec": {
   "display_name": "Python 3 (ipykernel)",
   "language": "python",
   "name": "python3"
  },
  "language_info": {
   "codemirror_mode": {
    "name": "ipython",
    "version": 3
   },
   "file_extension": ".py",
   "mimetype": "text/x-python",
   "name": "python",
   "nbconvert_exporter": "python",
   "pygments_lexer": "ipython3",
   "version": "3.9.6"
  }
 },
 "nbformat": 4,
 "nbformat_minor": 5
}
